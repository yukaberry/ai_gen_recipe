{
 "cells": [
  {
   "cell_type": "code",
   "execution_count": null,
   "metadata": {},
   "outputs": [
    {
     "data": {
      "text/plain": [
       "' flour 97g egg york 125g egg white 157g honey 108g cream 78g nuts 14g'"
      ]
     },
     "execution_count": 2,
     "metadata": {},
     "output_type": "execute_result"
    }
   ],
   "source": [
    "# raw text\n",
    "usr_input = 'flour 97g egg york 125g egg white 157g honey 108g cream 78g nuts 14g'\n",
    "usr_input"
   ]
  },
  {
   "cell_type": "code",
   "execution_count": null,
   "metadata": {},
   "outputs": [],
   "source": [
    "# split and create dictonary\n",
    "#TODO use regex and make a list below\n",
    "import re\n",
    "pat = r''\n",
    "re.search(pat, usr_input)"
   ]
  },
  {
   "cell_type": "code",
   "execution_count": 3,
   "metadata": {},
   "outputs": [],
   "source": [
    "import pandas as pd"
   ]
  },
  {
   "cell_type": "code",
   "execution_count": 7,
   "metadata": {},
   "outputs": [
    {
     "data": {
      "text/plain": [
       "[['flour', 97, 'g'],\n",
       " ['egg york', 125, 'g'],\n",
       " ['egg white', 157, 'g'],\n",
       " ['honey', 108, 'g'],\n",
       " ['cream', 78, 'g'],\n",
       " ['nuts', 14, 'g']]"
      ]
     },
     "execution_count": 7,
     "metadata": {},
     "output_type": "execute_result"
    }
   ],
   "source": [
    "data = [\n",
    "['flour', 97, 'g'],\n",
    "['egg york', 125, 'g'],\n",
    "['egg white', 157, 'g'],\n",
    "['honey', 108,'g'],\n",
    "['cream', 78,'g'],\n",
    "['nuts', 14,'g']]\n",
    "data\n"
   ]
  },
  {
   "cell_type": "code",
   "execution_count": null,
   "metadata": {},
   "outputs": [],
   "source": []
  },
  {
   "cell_type": "code",
   "execution_count": 8,
   "metadata": {},
   "outputs": [
    {
     "data": {
      "text/html": [
       "<div>\n",
       "<style scoped>\n",
       "    .dataframe tbody tr th:only-of-type {\n",
       "        vertical-align: middle;\n",
       "    }\n",
       "\n",
       "    .dataframe tbody tr th {\n",
       "        vertical-align: top;\n",
       "    }\n",
       "\n",
       "    .dataframe thead th {\n",
       "        text-align: right;\n",
       "    }\n",
       "</style>\n",
       "<table border=\"1\" class=\"dataframe\">\n",
       "  <thead>\n",
       "    <tr style=\"text-align: right;\">\n",
       "      <th></th>\n",
       "      <th>ingredient</th>\n",
       "      <th>amount</th>\n",
       "      <th>unit</th>\n",
       "    </tr>\n",
       "  </thead>\n",
       "  <tbody>\n",
       "    <tr>\n",
       "      <th>0</th>\n",
       "      <td>flour</td>\n",
       "      <td>97</td>\n",
       "      <td>g</td>\n",
       "    </tr>\n",
       "    <tr>\n",
       "      <th>1</th>\n",
       "      <td>egg york</td>\n",
       "      <td>125</td>\n",
       "      <td>g</td>\n",
       "    </tr>\n",
       "    <tr>\n",
       "      <th>2</th>\n",
       "      <td>egg white</td>\n",
       "      <td>157</td>\n",
       "      <td>g</td>\n",
       "    </tr>\n",
       "    <tr>\n",
       "      <th>3</th>\n",
       "      <td>honey</td>\n",
       "      <td>108</td>\n",
       "      <td>g</td>\n",
       "    </tr>\n",
       "    <tr>\n",
       "      <th>4</th>\n",
       "      <td>cream</td>\n",
       "      <td>78</td>\n",
       "      <td>g</td>\n",
       "    </tr>\n",
       "    <tr>\n",
       "      <th>5</th>\n",
       "      <td>nuts</td>\n",
       "      <td>14</td>\n",
       "      <td>g</td>\n",
       "    </tr>\n",
       "  </tbody>\n",
       "</table>\n",
       "</div>"
      ],
      "text/plain": [
       "  ingredient  amount unit\n",
       "0      flour      97    g\n",
       "1   egg york     125    g\n",
       "2  egg white     157    g\n",
       "3      honey     108    g\n",
       "4      cream      78    g\n",
       "5       nuts      14    g"
      ]
     },
     "execution_count": 8,
     "metadata": {},
     "output_type": "execute_result"
    }
   ],
   "source": [
    "# dataframe (or numpy array)\n",
    "# columns ingredient, amount, unit(gram, cup, ml, tbsp etc)\n",
    "\n",
    "df = pd.DataFrame(data, columns=['ingredient', 'amount', 'unit'])\n",
    "df"
   ]
  },
  {
   "cell_type": "code",
   "execution_count": 33,
   "metadata": {},
   "outputs": [
    {
     "data": {
      "text/plain": [
       "{'flour': 97,\n",
       " 'egg york': 125,\n",
       " 'egg white': 157,\n",
       " 'honey': 108,\n",
       " 'cream': 78,\n",
       " 'nuts': 14}"
      ]
     },
     "execution_count": 33,
     "metadata": {},
     "output_type": "execute_result"
    }
   ],
   "source": [
    "df_dict = df.set_index('ingredient')['amount'].to_dict()\n",
    "df_dict"
   ]
  },
  {
   "cell_type": "code",
   "execution_count": null,
   "metadata": {},
   "outputs": [],
   "source": [
    "#TODO check and convert unit to all the same (maybe gram is better...? )"
   ]
  },
  {
   "cell_type": "code",
   "execution_count": null,
   "metadata": {},
   "outputs": [
    {
     "name": "stdout",
     "output_type": "stream",
     "text": [
      "0.7133757961783439\n"
     ]
    },
    {
     "data": {
      "text/html": [
       "<div>\n",
       "<style scoped>\n",
       "    .dataframe tbody tr th:only-of-type {\n",
       "        vertical-align: middle;\n",
       "    }\n",
       "\n",
       "    .dataframe tbody tr th {\n",
       "        vertical-align: top;\n",
       "    }\n",
       "\n",
       "    .dataframe thead th {\n",
       "        text-align: right;\n",
       "    }\n",
       "</style>\n",
       "<table border=\"1\" class=\"dataframe\">\n",
       "  <thead>\n",
       "    <tr style=\"text-align: right;\">\n",
       "      <th></th>\n",
       "      <th>ingredient</th>\n",
       "      <th>amount</th>\n",
       "      <th>unit</th>\n",
       "      <th>scaled_amount</th>\n",
       "    </tr>\n",
       "  </thead>\n",
       "  <tbody>\n",
       "    <tr>\n",
       "      <th>0</th>\n",
       "      <td>flour</td>\n",
       "      <td>97</td>\n",
       "      <td>g</td>\n",
       "      <td>69.0</td>\n",
       "    </tr>\n",
       "    <tr>\n",
       "      <th>1</th>\n",
       "      <td>egg york</td>\n",
       "      <td>125</td>\n",
       "      <td>g</td>\n",
       "      <td>89.0</td>\n",
       "    </tr>\n",
       "    <tr>\n",
       "      <th>2</th>\n",
       "      <td>egg white</td>\n",
       "      <td>157</td>\n",
       "      <td>g</td>\n",
       "      <td>112.0</td>\n",
       "    </tr>\n",
       "    <tr>\n",
       "      <th>3</th>\n",
       "      <td>honey</td>\n",
       "      <td>108</td>\n",
       "      <td>g</td>\n",
       "      <td>77.0</td>\n",
       "    </tr>\n",
       "    <tr>\n",
       "      <th>4</th>\n",
       "      <td>cream</td>\n",
       "      <td>78</td>\n",
       "      <td>g</td>\n",
       "      <td>56.0</td>\n",
       "    </tr>\n",
       "    <tr>\n",
       "      <th>5</th>\n",
       "      <td>nuts</td>\n",
       "      <td>14</td>\n",
       "      <td>g</td>\n",
       "      <td>10.0</td>\n",
       "    </tr>\n",
       "  </tbody>\n",
       "</table>\n",
       "</div>"
      ],
      "text/plain": [
       "  ingredient  amount unit  scaled_amount\n",
       "0      flour      97    g           69.0\n",
       "1   egg york     125    g           89.0\n",
       "2  egg white     157    g          112.0\n",
       "3      honey     108    g           77.0\n",
       "4      cream      78    g           56.0\n",
       "5       nuts      14    g           10.0"
      ]
     },
     "execution_count": 29,
     "metadata": {},
     "output_type": "execute_result"
    }
   ],
   "source": [
    "# calcualte ratio based on user input\n",
    "# user only has 112 g of egg while, istead of original g\n",
    "ingredient_to_scale = 'egg white'\n",
    "new_amount = 112\n",
    "\n",
    "original_amount = df.loc[df['ingredient'] == ingredient_to_scale, 'amount'].iloc[0]\n",
    "scale_factor = new_amount / original_amount\n",
    "print(scale_factor)\n",
    "\n",
    "# adjust all of ingredients amount\n",
    "df['scaled_amount'] = (df['amount'] * scale_factor).round()\n",
    "df"
   ]
  },
  {
   "cell_type": "code",
   "execution_count": null,
   "metadata": {},
   "outputs": [],
   "source": []
  },
  {
   "cell_type": "code",
   "execution_count": 31,
   "metadata": {},
   "outputs": [],
   "source": [
    "# TODO more than one ingredinet missing case (take more than 1 arguments )\n",
    "\n",
    "def calculate(user_input_ingredient: str, user_input_amount:int) -> pd.DataFrame:\n",
    "\n",
    "    ingredient_to_scale = user_input_ingredient\n",
    "    new_amount = user_input_amount\n",
    "\n",
    "    original_amount = df.loc[df['ingredient'] == ingredient_to_scale, 'amount'].iloc[0]\n",
    "    scale_factor = new_amount / original_amount\n",
    "    print(scale_factor)\n",
    "\n",
    "    # adjust all of ingredients amount\n",
    "    df['scaled_amount'] = (df['amount'] * scale_factor).round()\n",
    "\n",
    "    return df\n"
   ]
  },
  {
   "cell_type": "code",
   "execution_count": 32,
   "metadata": {},
   "outputs": [
    {
     "name": "stdout",
     "output_type": "stream",
     "text": [
      "0.8\n"
     ]
    },
    {
     "data": {
      "text/html": [
       "<div>\n",
       "<style scoped>\n",
       "    .dataframe tbody tr th:only-of-type {\n",
       "        vertical-align: middle;\n",
       "    }\n",
       "\n",
       "    .dataframe tbody tr th {\n",
       "        vertical-align: top;\n",
       "    }\n",
       "\n",
       "    .dataframe thead th {\n",
       "        text-align: right;\n",
       "    }\n",
       "</style>\n",
       "<table border=\"1\" class=\"dataframe\">\n",
       "  <thead>\n",
       "    <tr style=\"text-align: right;\">\n",
       "      <th></th>\n",
       "      <th>ingredient</th>\n",
       "      <th>amount</th>\n",
       "      <th>unit</th>\n",
       "      <th>scaled_amount</th>\n",
       "    </tr>\n",
       "  </thead>\n",
       "  <tbody>\n",
       "    <tr>\n",
       "      <th>0</th>\n",
       "      <td>flour</td>\n",
       "      <td>97</td>\n",
       "      <td>g</td>\n",
       "      <td>78.0</td>\n",
       "    </tr>\n",
       "    <tr>\n",
       "      <th>1</th>\n",
       "      <td>egg york</td>\n",
       "      <td>125</td>\n",
       "      <td>g</td>\n",
       "      <td>100.0</td>\n",
       "    </tr>\n",
       "    <tr>\n",
       "      <th>2</th>\n",
       "      <td>egg white</td>\n",
       "      <td>157</td>\n",
       "      <td>g</td>\n",
       "      <td>126.0</td>\n",
       "    </tr>\n",
       "    <tr>\n",
       "      <th>3</th>\n",
       "      <td>honey</td>\n",
       "      <td>108</td>\n",
       "      <td>g</td>\n",
       "      <td>86.0</td>\n",
       "    </tr>\n",
       "    <tr>\n",
       "      <th>4</th>\n",
       "      <td>cream</td>\n",
       "      <td>78</td>\n",
       "      <td>g</td>\n",
       "      <td>62.0</td>\n",
       "    </tr>\n",
       "    <tr>\n",
       "      <th>5</th>\n",
       "      <td>nuts</td>\n",
       "      <td>14</td>\n",
       "      <td>g</td>\n",
       "      <td>11.0</td>\n",
       "    </tr>\n",
       "  </tbody>\n",
       "</table>\n",
       "</div>"
      ],
      "text/plain": [
       "  ingredient  amount unit  scaled_amount\n",
       "0      flour      97    g           78.0\n",
       "1   egg york     125    g          100.0\n",
       "2  egg white     157    g          126.0\n",
       "3      honey     108    g           86.0\n",
       "4      cream      78    g           62.0\n",
       "5       nuts      14    g           11.0"
      ]
     },
     "execution_count": 32,
     "metadata": {},
     "output_type": "execute_result"
    }
   ],
   "source": [
    "calculate('egg york', 100)"
   ]
  },
  {
   "cell_type": "code",
   "execution_count": 34,
   "metadata": {},
   "outputs": [],
   "source": [
    "def calculate_dict(df_dict: dict, user_input_ingredient: str, user_input_amount: int) -> dict:\n",
    "    ingredient_to_scale = user_input_ingredient\n",
    "    new_amount = user_input_amount\n",
    "\n",
    "    original_amount = df_dict[ingredient_to_scale]\n",
    "    scale_factor = new_amount / original_amount\n",
    "    print(f\"Scale factor: {scale_factor:.2f}\")\n",
    "\n",
    "    # Adjust all ingredient amounts using the scale factor\n",
    "    scaled_dict = {\n",
    "        ingredient: round(amount * scale_factor)\n",
    "        for ingredient, amount in df_dict.items()\n",
    "    }\n",
    "\n",
    "    return scaled_dict\n"
   ]
  },
  {
   "cell_type": "code",
   "execution_count": 35,
   "metadata": {},
   "outputs": [
    {
     "data": {
      "text/plain": [
       "{'flour': 97,\n",
       " 'egg york': 125,\n",
       " 'egg white': 157,\n",
       " 'honey': 108,\n",
       " 'cream': 78,\n",
       " 'nuts': 14}"
      ]
     },
     "execution_count": 35,
     "metadata": {},
     "output_type": "execute_result"
    }
   ],
   "source": [
    "df_dict"
   ]
  },
  {
   "cell_type": "code",
   "execution_count": 36,
   "metadata": {},
   "outputs": [
    {
     "name": "stdout",
     "output_type": "stream",
     "text": [
      "Scale factor: 0.80\n"
     ]
    },
    {
     "data": {
      "text/plain": [
       "{'flour': 78,\n",
       " 'egg york': 100,\n",
       " 'egg white': 126,\n",
       " 'honey': 86,\n",
       " 'cream': 62,\n",
       " 'nuts': 11}"
      ]
     },
     "execution_count": 36,
     "metadata": {},
     "output_type": "execute_result"
    }
   ],
   "source": [
    "calculate_dict(df_dict, 'egg york', 100)"
   ]
  },
  {
   "cell_type": "code",
   "execution_count": null,
   "metadata": {},
   "outputs": [],
   "source": []
  }
 ],
 "metadata": {
  "kernelspec": {
   "display_name": "ai_gen_recipe",
   "language": "python",
   "name": "python3"
  },
  "language_info": {
   "codemirror_mode": {
    "name": "ipython",
    "version": 3
   },
   "file_extension": ".py",
   "mimetype": "text/x-python",
   "name": "python",
   "nbconvert_exporter": "python",
   "pygments_lexer": "ipython3",
   "version": "3.12.9"
  }
 },
 "nbformat": 4,
 "nbformat_minor": 2
}
