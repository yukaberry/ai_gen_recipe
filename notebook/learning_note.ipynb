{
 "cells": [
  {
   "cell_type": "markdown",
   "metadata": {},
   "source": [
    "### ✅ When Do You Need `BaseModel`?\n",
    "\n",
    "| Situation                        | Do you need `BaseModel`? | Example                                                      |\n",
    "|----------------------------------|----------------------------|--------------------------------------------------------------|\n",
    "| `POST` with **JSON data**        | ✅ Yes                     | Sending structured data like `{ \"name\": \"Alice\", \"age\": 30 }` |\n",
    "| `POST` with **form data / files` | ❌ No                      | Uploading an image, sending form fields                      |\n",
    "| `GET` request with **query parameters** | ❌ No                | Like `?text=hello` in the URL                                |\n"
   ]
  },
  {
   "cell_type": "markdown",
   "metadata": {},
   "source": []
  }
 ],
 "metadata": {
  "language_info": {
   "name": "python"
  }
 },
 "nbformat": 4,
 "nbformat_minor": 2
}
