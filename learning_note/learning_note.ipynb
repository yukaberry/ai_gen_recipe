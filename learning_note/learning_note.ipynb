{
 "cells": [
  {
   "cell_type": "markdown",
   "metadata": {},
   "source": [
    "# ✅ When/Why Do You Need `BaseModel`?\n",
    "\n",
    "#### BaseModel is used when you expect **FastAPI to receive structured JSON data** in the **request(POST)** body\n",
    "\n",
    "\n",
    "| Situation | Need `BaseModel`? | Use instead | Example |\n",
    "|---|---|---|---|\n",
    "| `POST` with **JSON data** | ✅ Yes | — | `{ \"name\": \"Alice\", \"age\": 30 }` |\n",
    "| `POST` with **form data / files** | ❌ No | `UploadFile = File(...)` | Uploading an image; sending form fields |\n",
    "| `GET` request with **query parameters** | ❌ No | `def example(q: str)` | Like `?text=hello` in the URL |\n"
   ]
  },
  {
   "cell_type": "markdown",
   "metadata": {},
   "source": [
    "# ✅ When/Why Do I Need `@model_validator(mode='after')`? \n",
    "\n",
    "#### Special conditions that involve **two or more fields(data types) at the same time**, once they’ve already passed basic type checks.\n",
    "\n",
    "| Example Name                         | Fields Involved                     | Rule Description                                              | When to Use |\n",
    "|---------------------------------------|--------------------------------------|---------------------------------------------------------------|-------------|\n",
    "| Password confirmation match           | `password`, `password_confirm`       | Both passwords must be exactly the same                       | Signup / account creation |\n",
    "| End date after start date              | `start_date`, `end_date`              | End date must be later than start date                         | Scheduling / events |\n",
    "| At least one contact                   | `email`, `phone`                      | Must provide at least one contact method                       | Forms / registration |\n",
    "| Discount less than price               | `price`, `discount_price`             | Discount must be less than the original price                  | E-commerce / product listing |\n",
    "| Min less than max                      | `min_value`, `max_value`              | Min must be strictly less than max                             | Data ranges / numeric settings |\n",
    "| Coordinates validity                   | `latitude`, `longitude`               | Latitude between -90 and 90, longitude between -180 and 180    | Geo data validation |\n",
    "| Mutually exclusive options             | `option_a`, `option_b`                 | Only one of these fields can be provided                       | Config / settings forms |\n"
   ]
  },
  {
   "cell_type": "markdown",
   "metadata": {},
   "source": [
    "## 1. Password confirmation matches"
   ]
  },
  {
   "cell_type": "code",
   "execution_count": null,
   "metadata": {},
   "outputs": [
    {
     "name": "stdout",
     "output_type": "stream",
     "text": [
      "-------Unmatched case--------\n",
      "1 validation error for UserSignup\n",
      "  Value error, Passwords do not match [type=value_error, input_value={'password': 'secret123',...sword_confirm': 'wrong'}, input_type=dict]\n",
      "    For further information visit https://errors.pydantic.dev/2.11/v/value_error\n",
      "\n",
      "\n",
      "---------matched case---------\n",
      "password and confirmed-password matched!\n"
     ]
    }
   ],
   "source": [
    "from pydantic import BaseModel, model_validator, ValidationError\n",
    "\n",
    "class UserSignup(BaseModel):\n",
    "    password: str\n",
    "    password_confirm: str\n",
    "\n",
    "    @model_validator(mode='after')\n",
    "    def passwords_match(cls, model):\n",
    "        if model.password != model.password_confirm:\n",
    "            raise ValueError(\"Passwords do not match\")\n",
    "        return model\n",
    "\n",
    "print('-------Unmatched case--------')\n",
    "try:\n",
    "    UserSignup(password=\"secret123\", password_confirm=\"wrong\")\n",
    "except ValidationError as e:\n",
    "    print(e)\n",
    "\n",
    "print('\\n')\n",
    "print('---------matched case---------')\n",
    "\n",
    "try:\n",
    "    UserSignup(password=\"secret123\", password_confirm=\"secret123\")\n",
    "    print(\"password and confirmed-password matched!\")\n",
    "except ValidationError as e:\n",
    "    print(e)"
   ]
  },
  {
   "cell_type": "code",
   "execution_count": null,
   "metadata": {},
   "outputs": [],
   "source": []
  },
  {
   "cell_type": "markdown",
   "metadata": {},
   "source": [
    "## 2. End date must be after start date"
   ]
  },
  {
   "cell_type": "code",
   "execution_count": 24,
   "metadata": {},
   "outputs": [
    {
     "name": "stdout",
     "output_type": "stream",
     "text": [
      "-------Invalidation Case--------\n",
      "1 validation error for Event\n",
      "  Value error, Invalidation : End date must be after start date [type=value_error, input_value={'start_date': '2025-01-0...end_date': '2025-01-01'}, input_type=dict]\n",
      "    For further information visit https://errors.pydantic.dev/2.11/v/value_error\n",
      "\n",
      "\n",
      "---------Validation Case----------\n",
      "validation PASSED : End date is after start date, \n"
     ]
    }
   ],
   "source": [
    "from datetime import date\n",
    "\n",
    "class Event(BaseModel):\n",
    "    start_date: date\n",
    "    end_date: date\n",
    "\n",
    "    @model_validator(mode='after')\n",
    "    def check_dates(cls, model):\n",
    "        if model.end_date <= model.start_date:\n",
    "            raise ValueError(\"Invalidation : End date must be after start date\")\n",
    "        return model\n",
    "\n",
    "print('-------Invalidation Case--------')\n",
    "try:\n",
    "    Event(start_date=\"2025-01-02\", end_date=\"2025-01-01\")\n",
    "except ValidationError as e:\n",
    "    print(e)\n",
    "\n",
    "print('\\n')\n",
    "print('---------Validation Case----------')\n",
    "\n",
    "try:\n",
    "    Event(start_date=\"2025-01-01\", end_date=\"2025-01-02\")\n",
    "    print(\"validation PASSED : End date is after start date, \")\n",
    "except ValidationError as e:\n",
    "    print(e)"
   ]
  },
  {
   "cell_type": "markdown",
   "metadata": {},
   "source": []
  },
  {
   "cell_type": "markdown",
   "metadata": {},
   "source": [
    "## 3. Phone OR Email : One of two fields must be provided "
   ]
  },
  {
   "cell_type": "code",
   "execution_count": 39,
   "metadata": {},
   "outputs": [
    {
     "name": "stdout",
     "output_type": "stream",
     "text": [
      "Validation PASSED! either email or phone is provided\n",
      "Contact 1: email='test@example.com' phone=None\n",
      "Validation PASSED! either email or phone is provided\n",
      "Contact 2: email=None phone='123-456-7890'\n",
      "Validation PASSED! either email or phone is provided\n",
      "Contact 4: email='xxxx@gmail.com' phone='123-456-7890'\n",
      "--------------------------\n",
      "❌ Fails — neither provided\n",
      "Validation error:\n",
      "1 validation error for Contact\n",
      "  Value error, You must provide either email or phone [type=value_error, input_value={}, input_type=dict]\n",
      "    For further information visit https://errors.pydantic.dev/2.11/v/value_error\n"
     ]
    }
   ],
   "source": [
    "from pydantic import BaseModel, model_validator, ValidationError\n",
    "\n",
    "class Contact(BaseModel):\n",
    "    email: str | None = None\n",
    "    phone: str | None = None\n",
    "\n",
    "    @model_validator(mode='after')\n",
    "    def require_one(cls, model):\n",
    "\n",
    "        \"\"\"\n",
    "        cls : the class itself. It is like 'self'\n",
    "        more explanation to 'cls'\n",
    "        self → “this one dog” (an object) : model.email  # data for this one object\n",
    "        cls → “the idea of dogs” (the blueprint/class) cls.__name__ # the name of the blueprint being used\n",
    "\n",
    "\n",
    "        model : fully validated instance. whole object with all its fields available as attributes:\n",
    "        examples -> model.email and model.phone\n",
    "\n",
    "        \"\"\"\n",
    "        if not model.email and not model.phone:\n",
    "            raise ValueError(\"You must provide either email or phone\")\n",
    "        else:\n",
    "            print('Validation PASSED! either email or phone is provided')\n",
    "            return model\n",
    "\n",
    "# Whenever a model instance (e.g., Contact(...) or Contact.model_validate(data)) is created/validated,\n",
    "# Pydantic runs and AUTOMATICALLY calls the validator at the right time.\n",
    "# mode='after' : Pydantic first validates each field, builds the instance, then calls your function.\n",
    "\n",
    "# ✅ Works — has email\n",
    "c1 = Contact(email=\"test@example.com\")\n",
    "print(\"Contact 1:\", c1)\n",
    "\n",
    "# ✅ Works — has phone\n",
    "# the method model_validate() takes a single argument, usually parse a DICT type!\n",
    "c2 = Contact.model_validate({\"phone\": \"123-456-7890\"})\n",
    "print(\"Contact 2:\", c2)\n",
    "\n",
    "# parse both fields as a dict type\n",
    "c4 = Contact.model_validate({\"phone\": \"123-456-7890\", 'email':'xxxx@gmail.com'})\n",
    "print(\"Contact 4:\", c4)\n",
    "\n",
    "print('--------------------------')\n",
    "print('❌ Fails — neither provided')\n",
    "try:\n",
    "    c3 = Contact()\n",
    "except ValidationError as e:\n",
    "    print(\"Validation error:\")\n",
    "    print(e)\n"
   ]
  },
  {
   "cell_type": "code",
   "execution_count": null,
   "metadata": {},
   "outputs": [],
   "source": []
  },
  {
   "cell_type": "markdown",
   "metadata": {},
   "source": [
    "## 4. Discount price must be less than normal price"
   ]
  },
  {
   "cell_type": "code",
   "execution_count": null,
   "metadata": {},
   "outputs": [
    {
     "name": "stdout",
     "output_type": "stream",
     "text": [
      "-------Validation Case--------\n",
      "Validation PASSED, discount_price is smaller than price\n",
      "--------------------------\n",
      "❌ Fails — neither provided\n",
      "Validation error:\n",
      "1 validation error for Product\n",
      "  Value error, Discount must be less than the original price [type=value_error, input_value={'price': 5, 'discount_price': 10}, input_type=dict]\n",
      "    For further information visit https://errors.pydantic.dev/2.11/v/value_error\n"
     ]
    }
   ],
   "source": [
    "class Product(BaseModel):\n",
    "    price: float\n",
    "    discount_price: float | None = None\n",
    "\n",
    "    @model_validator(mode='after')\n",
    "    def check_discount(cls, model):\n",
    "\n",
    "        # invalid case\n",
    "        if model.discount_price is not None and model.discount_price >= model.price:\n",
    "            raise ValueError(\"Discount must be less than the original price\")\n",
    "\n",
    "        # valid case\n",
    "        elif model.discount_price is not None and model.discount_price <= model.price:\n",
    "            print('Validation PASSED, discount_price is smaller than price')\n",
    "\n",
    "        return model\n",
    "\n",
    "print('-------Validation Case--------')\n",
    "try:\n",
    "    Product(price=10, discount_price=5)\n",
    "except ValidationError as e:\n",
    "    print(e)\n",
    "\n",
    "\n",
    "print('--------------------------')\n",
    "print('❌ Fails — neither provided')\n",
    "try:\n",
    "    Product(price=5, discount_price=10)\n",
    "except ValidationError as e:\n",
    "    print(\"Validation error:\")\n",
    "    print(e)\n"
   ]
  },
  {
   "cell_type": "markdown",
   "metadata": {},
   "source": [
    "## 4-1. Bonus Discount price must be less than normal price"
   ]
  },
  {
   "cell_type": "code",
   "execution_count": null,
   "metadata": {},
   "outputs": [],
   "source": [
    "from pydantic import BaseModel, field_validator, ValidationInfo\n",
    "\n",
    "class Product(BaseModel):\n",
    "    price: float\n",
    "    discount_price: float | None = None\n",
    "\n",
    "    @field_validator('discount_price', mode='after')\n",
    "    def ensure_discount_is_valid(cls, discount_price, validated_field: ValidationInfo):\n",
    "\n",
    "        \"\"\"\n",
    "        cls : it is like 'self'\n",
    "        discount_price : value of the field being validated (in this case : discount_price)\n",
    "        becasue it is specified as in @field_validator('discount_price', mode='after')\n",
    "\n",
    "        validated_field : other fields that have already been validated are available inside\n",
    "        \"\"\"\n",
    "        # Step 1: If discount_price is missing or None, skip the check\n",
    "        if discount_price is None:\n",
    "            return discount_price\n",
    "\n",
    "        # Step 2: Get the \"price\" from the data already validated\n",
    "        price = validated_field.data.get('price')\n",
    "\n",
    "        # Step 3: Compare prices\n",
    "        if price is not None and discount_price >= price:\n",
    "            raise ValueError('discount_price must be < price')\n",
    "\n",
    "        # Step 4: If everything is fine, return the value as-is\n",
    "        return discount_price\n"
   ]
  },
  {
   "cell_type": "markdown",
   "metadata": {},
   "source": [
    "## Why this is nicer? \n",
    "- The user (or API client) sees **exactly which field is wrong.**\n",
    "- You don’t have to explain “the whole model is invalid” when the problem is just one field.\n",
    "\n",
    "\n",
    "## 🔑 Key differences \n",
    "@field_validator(\"field_name\") vs @model_validator(mode=\"after\")\n",
    "\n",
    "#### @field_validator(\"field_name\")\n",
    "\n",
    "- Runs on **one field only** (v = that field’s value).\n",
    "\n",
    "- Can still peek at other fields via 'validated_field.data.get('price')'\n",
    "\n",
    "- Best when the rule is mostly about that one field.\n",
    "\n",
    "- **Example: “discount_price must be less than price”.**\n",
    "\n",
    "#### @model_validator(mode=\"after\")\n",
    "\n",
    "- Runs after **all fields are validated.**\n",
    "\n",
    "- Works on the whole object (model = the instance).\n",
    "\n",
    "- Best when the rule needs to check relationships between multiple fields.\n",
    "\n",
    "- **Example: “end_date must be after start_date”.**"
   ]
  },
  {
   "cell_type": "markdown",
   "metadata": {},
   "source": [
    "Input Data  ─────────────►  Pydantic\n",
    "                             │\n",
    "                             ▼\n",
    "                  ┌─────────────────────┐\n",
    "                  │ Field validation    │\n",
    "                  │ (one field at a     │\n",
    "                  │ time)               │\n",
    "                  └─────────────────────┘\n",
    "                             │\n",
    "        Each field value  --->│ v = field value\n",
    "                             │ context.data = other fields\n",
    "                             ▼\n",
    "                 @field_validator(\"field_name\")\n",
    "                             │\n",
    "                             ▼\n",
    "            ✅ return value     OR     ❌ raise ValueError\n",
    "                             │\n",
    "                             ▼\n",
    "                  ┌─────────────────────┐\n",
    "                  │ Model validation    │\n",
    "                  │ (whole object,      │\n",
    "                  │ all fields ready)   │\n",
    "                  └─────────────────────┘\n",
    "                             │\n",
    "            model = instance with all fields validated\n",
    "                             ▼\n",
    "                 @model_validator(mode=\"after\")\n",
    "                             │\n",
    "                             ▼\n",
    "            ✅ return model     OR     ❌ raise ValueError\n",
    "                             │\n",
    "                             ▼\n",
    "                    Final Valid Model\n"
   ]
  },
  {
   "cell_type": "markdown",
   "metadata": {},
   "source": [
    "# ⚙️ In Data Engineering\n",
    "\n",
    "## Pydantic helps ensure data contracts are respected\n",
    "\n",
    "#### 1. Data engineers deal with pipelines\n",
    "#### 2. Streaming data\n",
    "#### 3. APIs\n",
    "\n",
    "\n",
    "\n",
    "Common uses:\n",
    "\n",
    "#### 1. ETL / ELT pipelines\n",
    "\n",
    "- Validate raw data before loading into a warehouse (Snowflake, BigQuery, etc.).\n",
    "\n",
    "- Catch bad rows early → save downstream headaches."
   ]
  },
  {
   "cell_type": "code",
   "execution_count": null,
   "metadata": {},
   "outputs": [],
   "source": [
    "class Transaction(BaseModel):\n",
    "    id: str\n",
    "    amount: float\n",
    "    timestamp: str\n"
   ]
  },
  {
   "cell_type": "markdown",
   "metadata": {},
   "source": [
    "#### 2. API ingestion\n",
    "\n",
    "- When consuming REST APIs or Kafka streams, schemas often drift.\n",
    "\n",
    "- Pydantic can validate messages so only “good” ones get processed."
   ]
  },
  {
   "cell_type": "markdown",
   "metadata": {},
   "source": [
    "### 3. Data contracts between teams\n",
    "\n",
    "- Define shared models in Pydantic to make sure upstream and downstream teams agree on the format.\n",
    "\n",
    "  - Example: An upstream service promises event_time is an ISO datetime — Pydantic enforces that."
   ]
  },
  {
   "cell_type": "markdown",
   "metadata": {},
   "source": [
    "#### 4.Configuration management\n",
    "\n",
    "- Pipelines have lots of configs (file paths, connection strings).\n",
    "\n",
    "- Pydantic’s BaseSettings is perfect for loading/validating environment variables."
   ]
  },
  {
   "cell_type": "markdown",
   "metadata": {},
   "source": []
  },
  {
   "cell_type": "markdown",
   "metadata": {},
   "source": [
    "# 🔬 In Data Science\n",
    "\n",
    "## Pydantic helps by validating and cleaning inputs (messy sources like CSV, Excel, APIs, scrapers) before analysis\n",
    "\n",
    "#### Common uses:\n",
    "\n",
    "## 1. Dataset schemas\n",
    "\n",
    "- Define what each row should look like (types, required/optional fields, ranges).\n",
    "\n",
    "  - Example: validating that a “price” column has positive floats and “date” column has valid ISO strings."
   ]
  },
  {
   "cell_type": "code",
   "execution_count": null,
   "metadata": {},
   "outputs": [],
   "source": [
    "from pydantic import BaseModel, Field\n",
    "\n",
    "class Row(BaseModel):\n",
    "    user_id: int\n",
    "    age: int = Field(gt=0)\n",
    "    purchase_amount: float\n",
    "    date: str  # ISO date\n",
    "\n",
    "# Validate each row before using it\n",
    "clean = [Row(**r) for r in raw_data]\n"
   ]
  },
  {
   "cell_type": "markdown",
   "metadata": {},
   "source": [
    "## 2. Feature engineering sanity checks\n",
    "\n",
    "- Before training a model, validate that engineered features are in the expected ranges.\n",
    "\n",
    "  - Example: probability must be between 0 and 1.\n",
    "\n",
    "## 3. Config files for ML experiments\n",
    "\n",
    "- Hyperparameters often come from YAML/JSON.\n",
    "\n",
    "- Pydantic can validate them so you don’t waste a 10-hour run because of a typo."
   ]
  },
  {
   "cell_type": "code",
   "execution_count": null,
   "metadata": {},
   "outputs": [],
   "source": []
  },
  {
   "cell_type": "markdown",
   "metadata": {},
   "source": [
    "# ⚠️ Why avoid global variables like adjusted_recipe?\n",
    " | Problem                        | Explanation                                                                                               |\n",
    "| ------------------------------ | --------------------------------------------------------------------------------------------------------- |\n",
    "| 🔁 Data overlap                | Multiple users using the app can overwrite each other's adjusted recipes                                  |\n",
    "| 🧪 Debugging nightmares        | You can’t track which user triggered which recipe                                                         |\n",
    "| 🚫 Not thread-safe             | FastAPI runs multiple requests in parallel — global variables cause race conditions                       |\n",
    "| 🚀 Won’t scale with Docker/GCP | In production (like GCP Cloud Run), your app may run across multiple containers — they don’t share memory |\n"
   ]
  }
 ],
 "metadata": {
  "kernelspec": {
   "display_name": "ai_gen_recipe",
   "language": "python",
   "name": "python3"
  },
  "language_info": {
   "codemirror_mode": {
    "name": "ipython",
    "version": 3
   },
   "file_extension": ".py",
   "mimetype": "text/x-python",
   "name": "python",
   "nbconvert_exporter": "python",
   "pygments_lexer": "ipython3",
   "version": "3.12.9"
  }
 },
 "nbformat": 4,
 "nbformat_minor": 2
}
